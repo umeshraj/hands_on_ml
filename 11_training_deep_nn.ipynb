{
 "cells": [
  {
   "cell_type": "markdown",
   "metadata": {},
   "source": [
    "# Chapter 11: Training Deep NN"
   ]
  },
  {
   "cell_type": "code",
   "execution_count": 1,
   "metadata": {},
   "outputs": [],
   "source": [
    "import numpy as np\n",
    "import matplotlib.pyplot as plt\n",
    "import tensorflow as tf\n",
    "from tensorflow import keras"
   ]
  },
  {
   "cell_type": "code",
   "execution_count": 4,
   "metadata": {},
   "outputs": [],
   "source": [
    "def logit(z):\n",
    "    return 1/(1+np.exp(-z))"
   ]
  },
  {
   "cell_type": "code",
   "execution_count": 3,
   "metadata": {},
   "outputs": [
    {
     "data": {
      "text/plain": [
       "[<matplotlib.lines.Line2D at 0x7f1522521290>]"
      ]
     },
     "execution_count": 3,
     "metadata": {},
     "output_type": "execute_result"
    },
    {
     "data": {
      "image/png": "[encoded data removed]",
      "text/plain": [
       "<Figure size 432x288 with 1 Axes>"
      ]
     },
     "metadata": {
      "needs_background": "light"
     },
     "output_type": "display_data"
    }
   ],
   "source": [
    "x = np.linspace(-5, 5, 200)\n",
    "plt.plot(x, logit(x))"
   ]
  },
  {
   "cell_type": "markdown",
   "metadata": {},
   "source": [
    "# Example of transfer learning in Keras"
   ]
  },
  {
   "cell_type": "code",
   "execution_count": 4,
   "metadata": {},
   "outputs": [],
   "source": [
    "(X_train_full, y_train_full), (X_test, y_test) = keras.datasets.fashion_mnist.load_data()\n",
    "X_train_full = X_train_full/255.0\n",
    "X_test = X_test/255.0\n",
    "\n",
    "X_valid, X_train = X_train_full[:5000], X_train_full[5000:]\n",
    "y_valid, y_train = y_train_full[:5000], y_train_full[5000:]"
   ]
  },
  {
   "cell_type": "code",
   "execution_count": 15,
   "metadata": {},
   "outputs": [],
   "source": [
    "def split_dataset(X, y):\n",
    "    y_5_or_6 = (y==5) | (y==6)\n",
    "    y_A = y[~y_5_or_6]\n",
    "    y_A[y_A > 6] -= 2\n",
    "    y_B = (y[y_5_or_6] == 6).astype(np.float32)\n",
    "    return((X[~y_5_or_6], y_A), (X[y_5_or_6], y_B))\n",
    "\n",
    "(X_train_A, y_train_A), (X_train_B, y_train_B) = split_dataset(X_train, y_train)\n",
    "(X_valid_A, y_valid_A), (X_valid_B, y_valid_B) = split_dataset(X_valid, y_valid)\n",
    "(X_test_A, y_test_A), (X_test_B, y_test_B) = split_dataset(X_test, y_test)\n",
    "\n",
    "X_train_B = X_train_B[:200]\n",
    "y_train_B = y_train_B[:200]"
   ]
  },
  {
   "cell_type": "code",
   "execution_count": 16,
   "metadata": {},
   "outputs": [
    {
     "data": {
      "text/plain": [
       "(43986, 28, 28)"
      ]
     },
     "execution_count": 16,
     "metadata": {},
     "output_type": "execute_result"
    }
   ],
   "source": [
    "X_train_A.shape"
   ]
  },
  {
   "cell_type": "code",
   "execution_count": 17,
   "metadata": {},
   "outputs": [
    {
     "data": {
      "text/plain": [
       "(200, 28, 28)"
      ]
     },
     "execution_count": 17,
     "metadata": {},
     "output_type": "execute_result"
    }
   ],
   "source": [
    "X_train_B.shape"
   ]
  },
  {
   "cell_type": "code",
   "execution_count": 18,
   "metadata": {},
   "outputs": [
    {
     "data": {
      "text/plain": [
       "array([4, 0, 5, 7, 7, 7, 4, 4, 3, 4, 0, 1, 6, 3, 4, 3, 2, 6, 5, 3, 4, 5,\n",
       "       1, 3, 4, 2, 0, 6, 7, 1], dtype=uint8)"
      ]
     },
     "execution_count": 18,
     "metadata": {},
     "output_type": "execute_result"
    }
   ],
   "source": [
    "y_train_A[:30]"
   ]
  },
  {
   "cell_type": "code",
   "execution_count": 14,
   "metadata": {},
   "outputs": [
    {
     "data": {
      "text/plain": [
       "array([1., 1., 0., 0., 0., 0., 1., 1., 1., 0., 0., 1., 1., 0., 0., 0., 0.,\n",
       "       0., 0., 1., 1., 0., 0., 1., 1., 0., 1., 1., 1., 1.], dtype=float32)"
      ]
     },
     "execution_count": 14,
     "metadata": {},
     "output_type": "execute_result"
    }
   ],
   "source": [
    "y_train_B[:30]"
   ]
  },
  {
   "cell_type": "code",
   "execution_count": 19,
   "metadata": {},
   "outputs": [],
   "source": [
    "tf.random.set_seed(42)\n",
    "np.random.seed(42)"
   ]
  },
  {
   "cell_type": "code",
   "execution_count": 20,
   "metadata": {},
   "outputs": [],
   "source": [
    "model_A = keras.models.Sequential()\n",
    "model_A.add(keras.layers.Flatten(input_shape=[28, 28]))\n",
    "for n_hidden in (300, 100, 50, 50, 50):\n",
    "    model_A.add(keras.layers.Dense(n_hidden, activation='selu'))\n",
    "model_A.add(keras.layers.Dense(8, activation='softmax'))    "
   ]
  },
  {
   "cell_type": "code",
   "execution_count": 21,
   "metadata": {},
   "outputs": [],
   "source": [
    "model_A.compile(loss='sparse_categorical_crossentropy', \n",
    "               optimizer=keras.optimizers.SGD(lr=1e-3), \n",
    "               metrics=['accuracy'])"
   ]
  },
  {
   "cell_type": "code",
   "execution_count": 22,
   "metadata": {},
   "outputs": [
    {
     "name": "stdout",
     "output_type": "stream",
     "text": [
      "Epoch 1/10\n",
      "1375/1375 [==============================] - 6s 4ms/step - loss: 0.5926 - accuracy: 0.8103 - val_loss: 0.3893 - val_accuracy: 0.8670\n",
      "Epoch 2/10\n",
      "1375/1375 [==============================] - 5s 4ms/step - loss: 0.3523 - accuracy: 0.8787 - val_loss: 0.3287 - val_accuracy: 0.8822\n",
      "Epoch 3/10\n",
      "1375/1375 [==============================] - 5s 4ms/step - loss: 0.3170 - accuracy: 0.8896 - val_loss: 0.3011 - val_accuracy: 0.8986\n",
      "Epoch 4/10\n",
      "1375/1375 [==============================] - 5s 4ms/step - loss: 0.2973 - accuracy: 0.8976 - val_loss: 0.2892 - val_accuracy: 0.9031\n",
      "Epoch 5/10\n",
      "1375/1375 [==============================] - 5s 4ms/step - loss: 0.2835 - accuracy: 0.9023 - val_loss: 0.2776 - val_accuracy: 0.9068\n",
      "Epoch 6/10\n",
      "1375/1375 [==============================] - 5s 4ms/step - loss: 0.2730 - accuracy: 0.9061 - val_loss: 0.2734 - val_accuracy: 0.9063\n",
      "Epoch 7/10\n",
      "1375/1375 [==============================] - 6s 4ms/step - loss: 0.2641 - accuracy: 0.9092 - val_loss: 0.2719 - val_accuracy: 0.9091\n",
      "Epoch 8/10\n",
      "1375/1375 [==============================] - 5s 4ms/step - loss: 0.2573 - accuracy: 0.9124 - val_loss: 0.2588 - val_accuracy: 0.9145\n",
      "Epoch 9/10\n",
      "1375/1375 [==============================] - 5s 4ms/step - loss: 0.2519 - accuracy: 0.9134 - val_loss: 0.2564 - val_accuracy: 0.9141\n",
      "Epoch 10/10\n",
      "1375/1375 [==============================] - 5s 4ms/step - loss: 0.2469 - accuracy: 0.9154 - val_loss: 0.2542 - val_accuracy: 0.9158\n"
     ]
    }
   ],
   "source": [
    "history = model_A.fit(X_train_A, y_train_A, epochs=10, validation_data=(X_valid_A, y_valid_A))"
   ]
  },
  {
   "cell_type": "code",
   "execution_count": 23,
   "metadata": {},
   "outputs": [],
   "source": [
    "model_A.save('my_model_A.h5')"
   ]
  },
  {
   "cell_type": "code",
   "execution_count": 24,
   "metadata": {},
   "outputs": [],
   "source": [
    "model_B = keras.models.Sequential()\n",
    "model_B.add(keras.layers.Flatten(input_shape=[28, 28]))\n",
    "for n_hidden in (300, 100, 50, 50):\n",
    "    model_B.add(keras.layers.Dense(n_hidden, activation='selu'))\n",
    "model_B.add(keras.layers.Dense(1, activation='sigmoid'))    "
   ]
  },
  {
   "cell_type": "code",
   "execution_count": 25,
   "metadata": {},
   "outputs": [],
   "source": [
    "model_B.compile(loss='binary_crossentropy', \n",
    "               optimizer=keras.optimizers.SGD(lr=1e-3),\n",
    "               metrics=['accuracy'])"
   ]
  },
  {
   "cell_type": "code",
   "execution_count": 26,
   "metadata": {},
   "outputs": [
    {
     "name": "stdout",
     "output_type": "stream",
     "text": [
      "Epoch 1/10\n",
      "7/7 [==============================] - 0s 35ms/step - loss: 0.6717 - accuracy: 0.5900 - val_loss: 0.5636 - val_accuracy: 0.6744\n",
      "Epoch 2/10\n",
      "7/7 [==============================] - 0s 17ms/step - loss: 0.5180 - accuracy: 0.7350 - val_loss: 0.4521 - val_accuracy: 0.8073\n",
      "Epoch 3/10\n",
      "7/7 [==============================] - 0s 16ms/step - loss: 0.4191 - accuracy: 0.8250 - val_loss: 0.3856 - val_accuracy: 0.8742\n",
      "Epoch 4/10\n",
      "7/7 [==============================] - 0s 16ms/step - loss: 0.3573 - accuracy: 0.8750 - val_loss: 0.3382 - val_accuracy: 0.8986\n",
      "Epoch 5/10\n",
      "7/7 [==============================] - 0s 16ms/step - loss: 0.3110 - accuracy: 0.9200 - val_loss: 0.3014 - val_accuracy: 0.9371\n",
      "Epoch 6/10\n",
      "7/7 [==============================] - 0s 17ms/step - loss: 0.2748 - accuracy: 0.9450 - val_loss: 0.2732 - val_accuracy: 0.9442\n",
      "Epoch 7/10\n",
      "7/7 [==============================] - 0s 17ms/step - loss: 0.2472 - accuracy: 0.9600 - val_loss: 0.2506 - val_accuracy: 0.9554\n",
      "Epoch 8/10\n",
      "7/7 [==============================] - 0s 16ms/step - loss: 0.2241 - accuracy: 0.9750 - val_loss: 0.2296 - val_accuracy: 0.9635\n",
      "Epoch 9/10\n",
      "7/7 [==============================] - 0s 16ms/step - loss: 0.2037 - accuracy: 0.9800 - val_loss: 0.2130 - val_accuracy: 0.9686\n",
      "Epoch 10/10\n",
      "7/7 [==============================] - 0s 15ms/step - loss: 0.1874 - accuracy: 0.9800 - val_loss: 0.1992 - val_accuracy: 0.9706\n"
     ]
    }
   ],
   "source": [
    "history = model_B.fit(X_train_B, y_train_B, epochs=10, validation_data=(X_valid_B, y_valid_B))"
   ]
  },
  {
   "cell_type": "code",
   "execution_count": 27,
   "metadata": {},
   "outputs": [],
   "source": [
    "model_A = keras.models.load_model('my_model_A.h5')\n",
    "model_B_on_A = keras.models.Sequential(model_A.layers[:-1])\n",
    "model_B_on_A.add(keras.layers.Dense(1, activation='sigmoid'))"
   ]
  },
  {
   "cell_type": "code",
   "execution_count": 28,
   "metadata": {},
   "outputs": [],
   "source": [
    "model_A_clone = keras.models.clone_model(model_A)\n",
    "model_A_clone.set_weights(model_A.get_weights())"
   ]
  },
  {
   "cell_type": "code",
   "execution_count": 31,
   "metadata": {},
   "outputs": [],
   "source": [
    "for layer in model_B_on_A.layers[:-1]:\n",
    "    layer.trainable = False\n",
    "    \n",
    "model_B_on_A.compile(loss='binary_crossentropy', optimizer=keras.optimizers.SGD(lr=1e-3), metrics=['accuracy'])"
   ]
  },
  {
   "cell_type": "code",
   "execution_count": 32,
   "metadata": {},
   "outputs": [
    {
     "name": "stdout",
     "output_type": "stream",
     "text": [
      "Epoch 1/4\n",
      "7/7 [==============================] - 0s 34ms/step - loss: 1.3734 - accuracy: 0.3150 - val_loss: 1.2711 - val_accuracy: 0.3306\n",
      "Epoch 2/4\n",
      "7/7 [==============================] - 0s 16ms/step - loss: 1.2822 - accuracy: 0.3350 - val_loss: 1.1852 - val_accuracy: 0.3479\n",
      "Epoch 3/4\n",
      "7/7 [==============================] - 0s 15ms/step - loss: 1.1931 - accuracy: 0.3550 - val_loss: 1.1069 - val_accuracy: 0.3671\n",
      "Epoch 4/4\n",
      "7/7 [==============================] - 0s 17ms/step - loss: 1.1119 - accuracy: 0.3700 - val_loss: 1.0358 - val_accuracy: 0.3824\n"
     ]
    }
   ],
   "source": [
    "history = model_B_on_A.fit(X_train_B, y_train_B, epochs=4, validation_data=(X_valid_B, y_valid_B))"
   ]
  },
  {
   "cell_type": "code",
   "execution_count": 35,
   "metadata": {},
   "outputs": [
    {
     "name": "stdout",
     "output_type": "stream",
     "text": [
      "Epoch 1/16\n",
      "7/7 [==============================] - 0s 34ms/step - loss: 0.9155 - accuracy: 0.4300 - val_loss: 0.7013 - val_accuracy: 0.5497\n",
      "Epoch 2/16\n",
      "7/7 [==============================] - 0s 17ms/step - loss: 0.6133 - accuracy: 0.6300 - val_loss: 0.4935 - val_accuracy: 0.7525\n",
      "Epoch 3/16\n",
      "7/7 [==============================] - 0s 17ms/step - loss: 0.4268 - accuracy: 0.7950 - val_loss: 0.3776 - val_accuracy: 0.8692\n",
      "Epoch 4/16\n",
      "7/7 [==============================] - 0s 17ms/step - loss: 0.3228 - accuracy: 0.8900 - val_loss: 0.3047 - val_accuracy: 0.9067\n",
      "Epoch 5/16\n",
      "7/7 [==============================] - 0s 16ms/step - loss: 0.2554 - accuracy: 0.9300 - val_loss: 0.2572 - val_accuracy: 0.9391\n",
      "Epoch 6/16\n",
      "7/7 [==============================] - 0s 17ms/step - loss: 0.2110 - accuracy: 0.9550 - val_loss: 0.2225 - val_accuracy: 0.9493\n",
      "Epoch 7/16\n",
      "7/7 [==============================] - 0s 19ms/step - loss: 0.1783 - accuracy: 0.9650 - val_loss: 0.1975 - val_accuracy: 0.9594\n",
      "Epoch 8/16\n",
      "7/7 [==============================] - 0s 16ms/step - loss: 0.1547 - accuracy: 0.9700 - val_loss: 0.1774 - val_accuracy: 0.9635\n",
      "Epoch 9/16\n",
      "7/7 [==============================] - 0s 17ms/step - loss: 0.1356 - accuracy: 0.9700 - val_loss: 0.1619 - val_accuracy: 0.9655\n",
      "Epoch 10/16\n",
      "7/7 [==============================] - 0s 20ms/step - loss: 0.1213 - accuracy: 0.9800 - val_loss: 0.1501 - val_accuracy: 0.9675\n",
      "Epoch 11/16\n",
      "7/7 [==============================] - 0s 19ms/step - loss: 0.1101 - accuracy: 0.9850 - val_loss: 0.1402 - val_accuracy: 0.9716\n",
      "Epoch 12/16\n",
      "7/7 [==============================] - 0s 18ms/step - loss: 0.1007 - accuracy: 0.9850 - val_loss: 0.1315 - val_accuracy: 0.9726\n",
      "Epoch 13/16\n",
      "7/7 [==============================] - 0s 16ms/step - loss: 0.0924 - accuracy: 0.9850 - val_loss: 0.1242 - val_accuracy: 0.9726\n",
      "Epoch 14/16\n",
      "7/7 [==============================] - 0s 17ms/step - loss: 0.0855 - accuracy: 0.9950 - val_loss: 0.1178 - val_accuracy: 0.9716\n",
      "Epoch 15/16\n",
      "7/7 [==============================] - 0s 16ms/step - loss: 0.0795 - accuracy: 0.9950 - val_loss: 0.1124 - val_accuracy: 0.9746\n",
      "Epoch 16/16\n",
      "7/7 [==============================] - 0s 17ms/step - loss: 0.0746 - accuracy: 0.9950 - val_loss: 0.1075 - val_accuracy: 0.9757\n"
     ]
    }
   ],
   "source": [
    "for layer in model_B_on_A.layers[:-1]:\n",
    "    layer.trainable = True\n",
    "    \n",
    "model_B_on_A.compile(loss='binary_crossentropy', \n",
    "                     optimizer=keras.optimizers.SGD(lr=1e-3), \n",
    "                     metrics=['accuracy'])    \n",
    "\n",
    "history = model_B_on_A.fit(X_train_B, y_train_B, epochs=16, validation_data=(X_valid_B, y_valid_B))"
   ]
  },
  {
   "cell_type": "code",
   "execution_count": 36,
   "metadata": {},
   "outputs": [
    {
     "name": "stdout",
     "output_type": "stream",
     "text": [
      "63/63 [==============================] - 0s 3ms/step - loss: 0.2052 - accuracy: 0.9765\n"
     ]
    },
    {
     "data": {
      "text/plain": [
       "[0.2051950991153717, 0.9764999747276306]"
      ]
     },
     "execution_count": 36,
     "metadata": {},
     "output_type": "execute_result"
    }
   ],
   "source": [
    "model_B.evaluate(X_test_B, y_test_B)"
   ]
  },
  {
   "cell_type": "code",
   "execution_count": 37,
   "metadata": {},
   "outputs": [
    {
     "name": "stdout",
     "output_type": "stream",
     "text": [
      "63/63 [==============================] - 0s 3ms/step - loss: 0.0923 - accuracy: 0.9885\n"
     ]
    },
    {
     "data": {
      "text/plain": [
       "[0.09233458340167999, 0.9884999990463257]"
      ]
     },
     "execution_count": 37,
     "metadata": {},
     "output_type": "execute_result"
    }
   ],
   "source": [
    "model_B_on_A.evaluate(X_test_B, y_test_B)"
   ]
  },
  {
   "cell_type": "markdown",
   "metadata": {},
   "source": [
    "# Faster optimizers"
   ]
  },
  {
   "cell_type": "code",
   "execution_count": 7,
   "metadata": {},
   "outputs": [],
   "source": [
    "# momentum\n",
    "optimizer = keras.optimizers.SGD(lr=0.001, momentum=0.9)"
   ]
  },
  {
   "cell_type": "code",
   "execution_count": 9,
   "metadata": {},
   "outputs": [],
   "source": [
    "# Nesterov Accelerated Gradient\n",
    "optimizer = keras.optimizers.SGD(lr=0.001, momentum=0.9, nesterov=True)"
   ]
  },
  {
   "cell_type": "code",
   "execution_count": 10,
   "metadata": {},
   "outputs": [],
   "source": [
    "# adagrad"
   ]
  },
  {
   "cell_type": "markdown",
   "metadata": {},
   "source": [
    "# Regularization"
   ]
  },
  {
   "cell_type": "code",
   "execution_count": 12,
   "metadata": {},
   "outputs": [
    {
     "data": {
      "text/plain": [
       "<tensorflow.python.keras.layers.core.Dropout at 0x7fe312b27250>"
      ]
     },
     "execution_count": 12,
     "metadata": {},
     "output_type": "execute_result"
    }
   ],
   "source": [
    "keras.layers.Dropout(rate=0.2)"
   ]
  },
  {
   "cell_type": "markdown",
   "metadata": {},
   "source": [
    "# Exercises"
   ]
  },
  {
   "cell_type": "markdown",
   "metadata": {},
   "source": [
    "## CIFAR10 analysis"
   ]
  },
  {
   "cell_type": "markdown",
   "metadata": {},
   "source": [
    "## 8.a"
   ]
  },
  {
   "cell_type": "code",
   "execution_count": 2,
   "metadata": {},
   "outputs": [],
   "source": [
    "import tensorflow as tf\n",
    "from tensorflow import keras\n",
    "%load_ext tensorboard\n",
    "\n",
    "import os"
   ]
  },
  {
   "cell_type": "code",
   "execution_count": 3,
   "metadata": {},
   "outputs": [],
   "source": [
    "keras.backend.clear_session()\n",
    "tf.random.set_seed(42)\n",
    "np.random.seed(42)\n",
    "\n",
    "model = keras.models.Sequential()\n",
    "model.add(keras.layers.Flatten(input_shape=[32, 32, 3]))\n",
    "\n",
    "for _ in range(20):\n",
    "    model.add(keras.layers.Dense(100, activation='elu', kernel_initializer='he_normal'))"
   ]
  },
  {
   "cell_type": "markdown",
   "metadata": {},
   "source": [
    "## 8.b"
   ]
  },
  {
   "cell_type": "code",
   "execution_count": 4,
   "metadata": {},
   "outputs": [],
   "source": [
    "model.add(keras.layers.Dense(10, activation='softmax'))"
   ]
  },
  {
   "cell_type": "code",
   "execution_count": 5,
   "metadata": {},
   "outputs": [],
   "source": [
    "optimizer = keras.optimizers.Nadam(lr=5e-5)\n",
    "\n",
    "model.compile(loss='sparse_categorical_crossentropy', optimizer=optimizer, metrics=['accuracy'])"
   ]
  },
  {
   "cell_type": "code",
   "execution_count": 6,
   "metadata": {},
   "outputs": [
    {
     "name": "stdout",
     "output_type": "stream",
     "text": [
      "(45000, 32, 32, 3) (45000, 1) (5000, 32, 32, 3) (5000, 1)\n"
     ]
    }
   ],
   "source": [
    "(X_train_full, y_train_full), (X_test, y_test) = keras.datasets.cifar10.load_data()\n",
    "\n",
    "X_train = X_train_full[5000:]\n",
    "y_train = y_train_full[5000:]\n",
    "X_valid = X_train_full[:5000]\n",
    "y_valid = y_train_full[:5000]\n",
    "\n",
    "print(X_train.shape, y_train.shape, X_valid.shape, y_valid.shape)"
   ]
  },
  {
   "cell_type": "code",
   "execution_count": 16,
   "metadata": {},
   "outputs": [],
   "source": [
    "early_stopping_cb = keras.callbacks.EarlyStopping(patience=20)\n",
    "model_checkpoint_cb = keras.callbacks.ModelCheckpoint('my_cifar10_model.h5', save_best_only=True)\n",
    "\n",
    "run_index = 1\n",
    "run_logdir = os.path.join(os.curdir, 'my_cifar10_logs', f'run_{run_index:03d}')\n",
    "\n",
    "tensorboard_cb = keras.callbacks.TensorBoard(run_logdir)\n",
    "callbacks = [early_stopping_cb, model_checkpoint_cb, tensorboard_cb]"
   ]
  },
  {
   "cell_type": "code",
   "execution_count": 22,
   "metadata": {},
   "outputs": [
    {
     "name": "stdout",
     "output_type": "stream",
     "text": [
      "Epoch 1/10\n",
      "   2/1407 [..............................] - ETA: 45s - loss: 2.0189 - accuracy: 0.2656WARNING:tensorflow:Callbacks method `on_train_batch_end` is slow compared to the batch time (batch time: 0.0138s vs `on_train_batch_end` time: 0.0501s). Check your callbacks.\n",
      "1407/1407 [==============================] - 18s 13ms/step - loss: 2.0183 - accuracy: 0.2599 - val_loss: 1.9905 - val_accuracy: 0.2728\n",
      "Epoch 2/10\n",
      "1407/1407 [==============================] - 16s 11ms/step - loss: 1.8930 - accuracy: 0.3080 - val_loss: 1.9495 - val_accuracy: 0.2880\n",
      "Epoch 3/10\n",
      "1407/1407 [==============================] - 16s 11ms/step - loss: 1.8242 - accuracy: 0.3363 - val_loss: 1.8269 - val_accuracy: 0.3320\n",
      "Epoch 4/10\n",
      "1407/1407 [==============================] - 19s 14ms/step - loss: 1.7670 - accuracy: 0.3604 - val_loss: 1.8491 - val_accuracy: 0.3442\n",
      "Epoch 5/10\n",
      "1407/1407 [==============================] - 20s 14ms/step - loss: 1.7210 - accuracy: 0.3805 - val_loss: 1.7432 - val_accuracy: 0.3638\n",
      "Epoch 6/10\n",
      "1407/1407 [==============================] - 21s 15ms/step - loss: 1.6812 - accuracy: 0.3930 - val_loss: 1.6669 - val_accuracy: 0.4070\n",
      "Epoch 7/10\n",
      "1407/1407 [==============================] - 18s 13ms/step - loss: 1.6466 - accuracy: 0.4046 - val_loss: 1.6515 - val_accuracy: 0.3992\n",
      "Epoch 8/10\n",
      "1407/1407 [==============================] - 18s 13ms/step - loss: 1.6131 - accuracy: 0.4172 - val_loss: 1.6052 - val_accuracy: 0.4262\n",
      "Epoch 9/10\n",
      "1407/1407 [==============================] - 19s 14ms/step - loss: 1.5930 - accuracy: 0.4253 - val_loss: 1.6329 - val_accuracy: 0.4142\n",
      "Epoch 10/10\n",
      "1407/1407 [==============================] - 20s 14ms/step - loss: 1.5721 - accuracy: 0.4336 - val_loss: 1.6549 - val_accuracy: 0.4000\n"
     ]
    },
    {
     "data": {
      "text/plain": [
       "<tensorflow.python.keras.callbacks.History at 0x7f29c4fe5250>"
      ]
     },
     "execution_count": 22,
     "metadata": {},
     "output_type": "execute_result"
    }
   ],
   "source": [
    "model.fit(X_train, y_train, epochs=10, validation_data=(X_valid, y_valid), callbacks=callbacks)"
   ]
  },
  {
   "cell_type": "code",
   "execution_count": null,
   "metadata": {},
   "outputs": [],
   "source": [
    "# %tensorboard --logdir=./my_cifar10_logs --port=6006"
   ]
  },
  {
   "cell_type": "code",
   "execution_count": 24,
   "metadata": {},
   "outputs": [
    {
     "name": "stdout",
     "output_type": "stream",
     "text": [
      "157/157 [==============================] - 1s 4ms/step - loss: 1.6052 - accuracy: 0.1024\n"
     ]
    },
    {
     "data": {
      "text/plain": [
       "[1.6051571369171143, 0.10239999741315842]"
      ]
     },
     "execution_count": 24,
     "metadata": {},
     "output_type": "execute_result"
    }
   ],
   "source": [
    "model = keras.models.load_model('my_cifar10_model.h5')\n",
    "model.evaluate(X_valid, y_valid)"
   ]
  },
  {
   "cell_type": "markdown",
   "metadata": {},
   "source": [
    "## 8c Batch Normalization"
   ]
  },
  {
   "cell_type": "code",
   "execution_count": 25,
   "metadata": {},
   "outputs": [],
   "source": [
    "keras.backend.clear_session()\n",
    "tf.random.set_seed(42)\n",
    "np.random.seed(42)"
   ]
  },
  {
   "cell_type": "code",
   "execution_count": 26,
   "metadata": {},
   "outputs": [],
   "source": [
    "model = keras.models.Sequential()\n",
    "\n",
    "# input layer with BN\n",
    "model.add(keras.layers.Flatten(input_shape=[32, 32, 3]))\n",
    "model.add(keras.layers.BatchNormalization())\n",
    "\n",
    "# add hidden layers\n",
    "for _ in range(20):\n",
    "    model.add(keras.layers.Dense(100, kernel_initializer='he_normal'))\n",
    "    model.add(keras.layers.BatchNormalization())\n",
    "    model.add(keras.layers.Activation('elu'))\n",
    "\n",
    "# output layer\n",
    "model.add(keras.layers.Dense(10, activation='softmax'))\n",
    "\n",
    "# compiler\n",
    "optimizer = keras.optimizers.Nadam(lr=5e-4)\n",
    "model.compile(loss='sparse_categorical_crossentropy',\n",
    "             optimizer=optimizer, \n",
    "             metrics=['accuracy'])"
   ]
  },
  {
   "cell_type": "code",
   "execution_count": 29,
   "metadata": {},
   "outputs": [
    {
     "name": "stdout",
     "output_type": "stream",
     "text": [
      "Epoch 1/10\n",
      "   2/1407 [..............................] - ETA: 8:44 - loss: 2.8693 - accuracy: 0.1094WARNING:tensorflow:Callbacks method `on_train_batch_end` is slow compared to the batch time (batch time: 0.0217s vs `on_train_batch_end` time: 0.7245s). Check your callbacks.\n",
      "1407/1407 [==============================] - 29s 21ms/step - loss: 1.8472 - accuracy: 0.3373 - val_loss: 1.6468 - val_accuracy: 0.4120\n",
      "Epoch 2/10\n",
      "1407/1407 [==============================] - 28s 20ms/step - loss: 1.6727 - accuracy: 0.4031 - val_loss: 1.6077 - val_accuracy: 0.4304\n",
      "Epoch 3/10\n",
      "1407/1407 [==============================] - 32s 23ms/step - loss: 1.6000 - accuracy: 0.4315 - val_loss: 1.5221 - val_accuracy: 0.4534\n",
      "Epoch 4/10\n",
      "1407/1407 [==============================] - 30s 21ms/step - loss: 1.5509 - accuracy: 0.4499 - val_loss: 1.5133 - val_accuracy: 0.4652\n",
      "Epoch 5/10\n",
      "1407/1407 [==============================] - 29s 20ms/step - loss: 1.5049 - accuracy: 0.4647 - val_loss: 1.4317 - val_accuracy: 0.4888\n",
      "Epoch 6/10\n",
      "1407/1407 [==============================] - 34s 24ms/step - loss: 1.4719 - accuracy: 0.4785 - val_loss: 1.4300 - val_accuracy: 0.4842\n",
      "Epoch 7/10\n",
      "1407/1407 [==============================] - 45s 32ms/step - loss: 1.4338 - accuracy: 0.4921 - val_loss: 1.4305 - val_accuracy: 0.4854\n",
      "Epoch 8/10\n",
      "1407/1407 [==============================] - 43s 30ms/step - loss: 1.4064 - accuracy: 0.5019 - val_loss: 1.4085 - val_accuracy: 0.5012\n",
      "Epoch 9/10\n",
      "1407/1407 [==============================] - 34s 24ms/step - loss: 1.3866 - accuracy: 0.5099 - val_loss: 1.3826 - val_accuracy: 0.5118\n",
      "Epoch 10/10\n",
      "1407/1407 [==============================] - 43s 30ms/step - loss: 1.3638 - accuracy: 0.5164 - val_loss: 1.3626 - val_accuracy: 0.5216\n"
     ]
    },
    {
     "data": {
      "text/plain": [
       "<tensorflow.python.keras.callbacks.History at 0x7f29bfa1b1d0>"
      ]
     },
     "execution_count": 29,
     "metadata": {},
     "output_type": "execute_result"
    }
   ],
   "source": [
    "# callbacks\n",
    "early_stopping_cb = keras.callbacks.EarlyStopping(patience=20)\n",
    "model_checkpoint_cb = keras.callbacks.ModelCheckpoint('my_cifar10_bn_model.h5', save_best_only=True)\n",
    "run_index = 1\n",
    "run_logdir = os.path.join(os.curdir, 'my_cifar10_logs', f'run_bn_{run_index:03d}')\n",
    "tensorboard_cb = keras.callbacks.TensorBoard(run_logdir)\n",
    "callbacks = [early_stopping_cb, model_checkpoint_cb, tensorboard_cb]\n",
    "\n",
    "model.fit(X_train, y_train, epochs=10, validation_data=(X_valid, y_valid), callbacks=callbacks)"
   ]
  },
  {
   "cell_type": "code",
   "execution_count": null,
   "metadata": {},
   "outputs": [],
   "source": [
    "model = keras.models.load_model_model('my_cifar10_bn_model.h5')\n",
    "model.evaluate(X_valid, y_valid)"
   ]
  },
  {
   "cell_type": "markdown",
   "metadata": {},
   "source": [
    "# 8d"
   ]
  },
  {
   "cell_type": "code",
   "execution_count": 7,
   "metadata": {},
   "outputs": [],
   "source": [
    "keras.backend.clear_session()\n",
    "tf.random.set_seed(42)\n",
    "np.random.seed(42)"
   ]
  },
  {
   "cell_type": "code",
   "execution_count": 8,
   "metadata": {},
   "outputs": [],
   "source": [
    "model = keras.models.Sequential()\n",
    "model.add(keras.layers.Flatten(input_shape=[32, 32, 3]))\n",
    "\n",
    "for _ in range(20):\n",
    "    model.add(keras.layers.Dense(100, kernel_initializer='lecun_normal', activation='selu'))\n",
    "\n",
    "model.add(keras.layers.Dense(10, activation='softmax'))"
   ]
  },
  {
   "cell_type": "code",
   "execution_count": 13,
   "metadata": {},
   "outputs": [],
   "source": [
    "optimizer = keras.optimizers.Nadam(lr=7e-4)\n",
    "\n",
    "model.compile(loss='sparse_categorical_crossentropy', optimizer=optimizer, metrics=['accuracy'])\n",
    "\n",
    "early_stopping_cb = keras.callbacks.EarlyStopping(patience=20)\n",
    "model_checkpoing_cb = keras.callbacks.ModelCheckpoint('my_cifar10_selu_model.h5', save_best_only=True)\n",
    "run_index = 1\n",
    "run_logdir = os.path.join(os.curdir, 'my_cifar10_logs', f'run_selu_{run_index:03d}')\n",
    "tensorboard_cb = keras.callbacks.TensorBoard(run_logdir)\n",
    "callbacks = [early_stopping_cb, model_checkpoing_cb, tensorboard_cb]"
   ]
  },
  {
   "cell_type": "code",
   "execution_count": 14,
   "metadata": {},
   "outputs": [
    {
     "name": "stdout",
     "output_type": "stream",
     "text": [
      "Epoch 1/10\n",
      "   1/1407 [..............................] - ETA: 0s - loss: 2.9450 - accuracy: 0.1250WARNING:tensorflow:From /home/umesh/anaconda3/lib/python3.7/site-packages/tensorflow/python/ops/summary_ops_v2.py:1277: stop (from tensorflow.python.eager.profiler) is deprecated and will be removed after 2020-07-01.\n",
      "Instructions for updating:\n",
      "use `tf.profiler.experimental.stop` instead.\n",
      "   2/1407 [..............................] - ETA: 51s - loss: 3.0440 - accuracy: 0.1094WARNING:tensorflow:Callbacks method `on_train_batch_end` is slow compared to the batch time (batch time: 0.0160s vs `on_train_batch_end` time: 0.0568s). Check your callbacks.\n",
      "1407/1407 [==============================] - 20s 14ms/step - loss: 1.9253 - accuracy: 0.3141 - val_loss: 1.7879 - val_accuracy: 0.3490\n",
      "Epoch 2/10\n",
      "1407/1407 [==============================] - 19s 13ms/step - loss: 1.7044 - accuracy: 0.3989 - val_loss: 1.8312 - val_accuracy: 0.3226\n",
      "Epoch 3/10\n",
      "1407/1407 [==============================] - 19s 14ms/step - loss: 1.6103 - accuracy: 0.4323 - val_loss: 1.7074 - val_accuracy: 0.3952\n",
      "Epoch 4/10\n",
      "1407/1407 [==============================] - 20s 14ms/step - loss: 1.5460 - accuracy: 0.4554 - val_loss: 1.6102 - val_accuracy: 0.4296\n",
      "Epoch 5/10\n",
      "1407/1407 [==============================] - 20s 15ms/step - loss: 1.4882 - accuracy: 0.4809 - val_loss: 1.6565 - val_accuracy: 0.4340\n",
      "Epoch 6/10\n",
      "1407/1407 [==============================] - 23s 16ms/step - loss: 1.4409 - accuracy: 0.4981 - val_loss: 1.5341 - val_accuracy: 0.4626\n",
      "Epoch 7/10\n",
      "1407/1407 [==============================] - 23s 16ms/step - loss: 1.3994 - accuracy: 0.5132 - val_loss: 1.5420 - val_accuracy: 0.4676\n",
      "Epoch 8/10\n",
      "1407/1407 [==============================] - 23s 16ms/step - loss: 1.3608 - accuracy: 0.5250 - val_loss: 1.4622 - val_accuracy: 0.4904\n",
      "Epoch 9/10\n",
      "1407/1407 [==============================] - 25s 18ms/step - loss: 1.3276 - accuracy: 0.5393 - val_loss: 1.4993 - val_accuracy: 0.4678\n",
      "Epoch 10/10\n",
      "1407/1407 [==============================] - 30s 21ms/step - loss: 1.2995 - accuracy: 0.5518 - val_loss: 1.4649 - val_accuracy: 0.4900\n"
     ]
    },
    {
     "data": {
      "text/plain": [
       "<tensorflow.python.keras.callbacks.History at 0x7ff02e7b9a50>"
      ]
     },
     "execution_count": 14,
     "metadata": {},
     "output_type": "execute_result"
    }
   ],
   "source": [
    "X_means = X_train.mean(axis=0)\n",
    "X_stds = X_train.std(axis=0)\n",
    "\n",
    "X_train_scaled = (X_train-X_means)/X_stds\n",
    "X_valid_scaled = (X_valid-X_means)/X_stds\n",
    "X_test_scaled = (X_test-X_means)/X_stds\n",
    "\n",
    "model.fit(X_train_scaled, y_train, epochs=10, validation_data=(X_valid_scaled, y_valid), callbacks=callbacks)"
   ]
  },
  {
   "cell_type": "code",
   "execution_count": 15,
   "metadata": {},
   "outputs": [
    {
     "name": "stdout",
     "output_type": "stream",
     "text": [
      "157/157 [==============================] - 1s 4ms/step - loss: 1.4622 - accuracy: 0.1018\n"
     ]
    },
    {
     "data": {
      "text/plain": [
       "[1.46218740940094, 0.10180000215768814]"
      ]
     },
     "execution_count": 15,
     "metadata": {},
     "output_type": "execute_result"
    }
   ],
   "source": [
    "model = keras.models.load_model('my_cifar10_selu_model.h5')\n",
    "model.evaluate(X_valid_scaled, y_valid)"
   ]
  },
  {
   "cell_type": "markdown",
   "metadata": {},
   "source": [
    "# 8e: Alpha dropout"
   ]
  },
  {
   "cell_type": "code",
   "execution_count": 16,
   "metadata": {},
   "outputs": [],
   "source": [
    "keras.backend.clear_session()\n",
    "tf.random.set_seed(42)\n",
    "np.random.seed(42)"
   ]
  },
  {
   "cell_type": "code",
   "execution_count": 17,
   "metadata": {},
   "outputs": [],
   "source": [
    "model = keras.models.Sequential()\n",
    "model.add(keras.layers.Flatten(input_shape=[32, 32, 3]))\n",
    "\n",
    "for _ in range(20):\n",
    "    model.add(keras.layers.Dense(100, kernel_initializer='lecun_normal', activation='selu'))\n",
    "\n",
    "model.add(keras.layers.AlphaDropout(rate=0.1))    \n",
    "model.add(keras.layers.Dense(10, activation='softmax'))"
   ]
  },
  {
   "cell_type": "code",
   "execution_count": 18,
   "metadata": {},
   "outputs": [],
   "source": [
    "optimizer = keras.optimizers.Nadam(lr=7e-4)\n",
    "\n",
    "model.compile(loss='sparse_categorical_crossentropy', optimizer=optimizer, metrics=['accuracy'])\n",
    "\n",
    "early_stopping_cb = keras.callbacks.EarlyStopping(patience=20)\n",
    "model_checkpoing_cb = keras.callbacks.ModelCheckpoint('my_cifar10_selu_model.h5', save_best_only=True)\n",
    "run_index = 1\n",
    "run_logdir = os.path.join(os.curdir, 'my_cifar10_logs', f'run_selu_{run_index:03d}')\n",
    "tensorboard_cb = keras.callbacks.TensorBoard(run_logdir)\n",
    "callbacks = [early_stopping_cb, model_checkpoing_cb, tensorboard_cb]"
   ]
  },
  {
   "cell_type": "code",
   "execution_count": 19,
   "metadata": {},
   "outputs": [
    {
     "name": "stdout",
     "output_type": "stream",
     "text": [
      "Epoch 1/10\n",
      "   2/1407 [..............................] - ETA: 4:08 - loss: 3.0367 - accuracy: 0.1094WARNING:tensorflow:Callbacks method `on_train_batch_end` is slow compared to the batch time (batch time: 0.0139s vs `on_train_batch_end` time: 0.3406s). Check your callbacks.\n",
      "1407/1407 [==============================] - 17s 12ms/step - loss: 1.9079 - accuracy: 0.3179 - val_loss: 1.8086 - val_accuracy: 0.3640\n",
      "Epoch 2/10\n",
      "1407/1407 [==============================] - 15s 11ms/step - loss: 1.6999 - accuracy: 0.3993 - val_loss: 1.6682 - val_accuracy: 0.3928\n",
      "Epoch 3/10\n",
      "1407/1407 [==============================] - 16s 11ms/step - loss: 1.6139 - accuracy: 0.4267 - val_loss: 1.6567 - val_accuracy: 0.4220\n",
      "Epoch 4/10\n",
      "1407/1407 [==============================] - 19s 14ms/step - loss: 1.5461 - accuracy: 0.4521 - val_loss: 1.6137 - val_accuracy: 0.4340\n",
      "Epoch 5/10\n",
      "1407/1407 [==============================] - 16s 11ms/step - loss: 1.4984 - accuracy: 0.4733 - val_loss: 1.6867 - val_accuracy: 0.4332\n",
      "Epoch 6/10\n",
      "1407/1407 [==============================] - 18s 12ms/step - loss: 1.4595 - accuracy: 0.4888 - val_loss: 1.5985 - val_accuracy: 0.4512\n",
      "Epoch 7/10\n",
      "1407/1407 [==============================] - 23s 16ms/step - loss: 1.4138 - accuracy: 0.5082 - val_loss: 1.5824 - val_accuracy: 0.4562\n",
      "Epoch 8/10\n",
      "1407/1407 [==============================] - 20s 14ms/step - loss: 1.3784 - accuracy: 0.5223 - val_loss: 1.5159 - val_accuracy: 0.4830\n",
      "Epoch 9/10\n",
      "1407/1407 [==============================] - 22s 16ms/step - loss: 1.3435 - accuracy: 0.5338 - val_loss: 1.6115 - val_accuracy: 0.4788\n",
      "Epoch 10/10\n",
      "1407/1407 [==============================] - 23s 17ms/step - loss: 1.3170 - accuracy: 0.5442 - val_loss: 1.5520 - val_accuracy: 0.4804\n"
     ]
    },
    {
     "data": {
      "text/plain": [
       "<tensorflow.python.keras.callbacks.History at 0x7ff02e1c0050>"
      ]
     },
     "execution_count": 19,
     "metadata": {},
     "output_type": "execute_result"
    }
   ],
   "source": [
    "X_means = X_train.mean(axis=0)\n",
    "X_stds = X_train.std(axis=0)\n",
    "\n",
    "X_train_scaled = (X_train-X_means)/X_stds\n",
    "X_valid_scaled = (X_valid-X_means)/X_stds\n",
    "X_test_scaled = (X_test-X_means)/X_stds\n",
    "\n",
    "model.fit(X_train_scaled, y_train, epochs=10, validation_data=(X_valid_scaled, y_valid), callbacks=callbacks)"
   ]
  },
  {
   "cell_type": "code",
   "execution_count": 15,
   "metadata": {},
   "outputs": [
    {
     "name": "stdout",
     "output_type": "stream",
     "text": [
      "157/157 [==============================] - 1s 4ms/step - loss: 1.4622 - accuracy: 0.1018\n"
     ]
    },
    {
     "data": {
      "text/plain": [
       "[1.46218740940094, 0.10180000215768814]"
      ]
     },
     "execution_count": 15,
     "metadata": {},
     "output_type": "execute_result"
    }
   ],
   "source": [
    "model = keras.models.load_model('my_cifar10_selu_model.h5')\n",
    "model.evaluate(X_valid_scaled, y_valid)"
   ]
  },
  {
   "cell_type": "code",
   "execution_count": 20,
   "metadata": {},
   "outputs": [
    {
     "data": {
      "text/plain": [
       "0.482"
      ]
     },
     "execution_count": 20,
     "metadata": {},
     "output_type": "execute_result"
    }
   ],
   "source": [
    "# mc dropout\n",
    "\n",
    "class MCAlphaDropout(keras.layers.AlphaDropout):\n",
    "    def call(self, inputs):\n",
    "        return super().call(inputs, training=True)\n",
    "    \n",
    "mc_model = keras.models.Sequential([\n",
    "    MCAlphaDropout(layer.rate) if isinstance(layer, keras.layers.AlphaDropout) else layer\n",
    "    for layer in model.layers\n",
    "])\n",
    "\n",
    "\n",
    "def mc_dropout_predict_probas(mc_model, X, n_samples=10):\n",
    "    Y_probas = [mc_model.predict(X) for sample in range(n_samples)]\n",
    "    return np.mean(Y_probas, axis=0)\n",
    "\n",
    "def mc_dropout_predict_classes(mc_model, X, n_samples=10):\n",
    "    Y_probas = mc_dropout_predict_probas(mc_model, X, n_samples)\n",
    "    return np.argmax(Y_probas, axis=1)\n",
    "\n",
    "keras.backend.clear_session()\n",
    "tf.random.set_seed(42)\n",
    "np.random.seed(42)\n",
    "\n",
    "y_pred = mc_dropout_predict_classes(mc_model, X_valid_scaled)\n",
    "accuracy = np.mean(y_pred == y_valid[:, 0])\n",
    "accuracy\n"
   ]
  },
  {
   "cell_type": "markdown",
   "metadata": {},
   "source": [
    "# 8f: 1 cycle scheduling"
   ]
  },
  {
   "cell_type": "code",
   "execution_count": 21,
   "metadata": {},
   "outputs": [],
   "source": [
    "keras.backend.clear_session()\n",
    "tf.random.set_seed(42)\n",
    "np.random.seed(42)\n",
    "\n",
    "model = keras.models.Sequential()\n",
    "model.add(keras.layers.Flatten(input_shape=[32, 32, 3]))\n",
    "for _ in range(20):\n",
    "    model.add(keras.layers.Dense(100,\n",
    "                                 kernel_initializer=\"lecun_normal\",\n",
    "                                 activation=\"selu\"))\n",
    "\n",
    "model.add(keras.layers.AlphaDropout(rate=0.1))\n",
    "model.add(keras.layers.Dense(10, activation=\"softmax\"))\n",
    "\n",
    "optimizer = keras.optimizers.SGD(lr=1e-3)\n",
    "model.compile(loss=\"sparse_categorical_crossentropy\",\n",
    "              optimizer=optimizer,\n",
    "              metrics=[\"accuracy\"])"
   ]
  },
  {
   "cell_type": "code",
   "execution_count": null,
   "metadata": {},
   "outputs": [],
   "source": []
  }
 ],
 "metadata": {
  "kernelspec": {
   "display_name": "Python 3",
   "language": "python",
   "name": "python3"
  },
  "language_info": {
   "codemirror_mode": {
    "name": "ipython",
    "version": 3
   },
   "file_extension": ".py",
   "mimetype": "text/x-python",
   "name": "python",
   "nbconvert_exporter": "python",
   "pygments_lexer": "ipython3",
   "version": "3.7.7"
  }
 },
 "nbformat": 4,
 "nbformat_minor": 4
}
